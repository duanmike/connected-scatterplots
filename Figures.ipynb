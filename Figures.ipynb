{
  "nbformat": 4,
  "nbformat_minor": 0,
  "metadata": {
    "colab": {
      "name": "CS Figures.ipynb",
      "provenance": []
    },
    "kernelspec": {
      "name": "python3",
      "display_name": "Python 3"
    },
    "language_info": {
      "name": "python"
    }
  },
  "cells": [
    {
      "cell_type": "code",
      "execution_count": 1,
      "metadata": {
        "id": "DVu51-wTVkf1"
      },
      "outputs": [],
      "source": [
        "import matplotlib.pyplot as plt\n",
        "import pandas as pd\n",
        "\n",
        "# Example A - Static\n",
        "\n",
        "df_a1 = pd.DataFrame()\n",
        "df_a2 = pd.DataFrame()\n",
        "\n",
        "df_a1['time'] = [1, 2]\n",
        "df_a1['value'] = [3, 3]\n",
        "\n",
        "df_a2['time'] = [1, 2]\n",
        "df_a2['value'] = [4, 4]"
      ]
    },
    {
      "cell_type": "code",
      "source": [
        "ax = df_a1.plot(x='time', y='value', marker='o', markersize=10, linewidth=4, color='green')\n",
        "df_a2.plot(x='time', y='value', ax=ax, marker='o', markersize=10, linewidth=4, color='blue')\n",
        "\n",
        "ax.margins(1,1)\n",
        "\n",
        "plt.tick_params(axis='x', which='both', bottom=False, labelbottom=False)\n",
        "plt.tick_params(axis='y', which='both', left=False, labelleft=False) \n",
        "\n",
        "ax.text(0.9,3.8,'a', size=14)\n",
        "ax.text(0.9,2.8,'b', size=14)\n",
        "\n",
        "plt.xlabel('time ➔', size=14)\n",
        "\n",
        "ax.get_legend().remove()\n",
        "\n",
        "plt.savefig('a_dalc', dpi=300, bbox_inches=\"tight\")\n",
        "plt.show"
      ],
      "metadata": {
        "colab": {
          "base_uri": "https://localhost:8080/",
          "height": 284
        },
        "id": "2yaq_lubYQBa",
        "outputId": "debce859-0ff0-4cee-ae0d-84fa1ea554b4"
      },
      "execution_count": 4,
      "outputs": [
        {
          "output_type": "execute_result",
          "data": {
            "text/plain": [
              "<function matplotlib.pyplot.show>"
            ]
          },
          "metadata": {},
          "execution_count": 4
        },
        {
          "output_type": "display_data",
          "data": {
            "text/plain": [
              "<Figure size 432x288 with 1 Axes>"
            ],
            "image/png": "[encoded data removed]"
          },
          "metadata": {}
        }
      ]
    },
    {
      "cell_type": "code",
      "source": [
        "fig,ax = plt.subplots()\n",
        "\n",
        "ax.plot(df_a1.value, df_a2.value, 'go', markersize=10, color='orange')\n",
        "\n",
        "plt.tick_params(axis='x', which='both', bottom=False, labelbottom=False)\n",
        "plt.tick_params(axis='y', which='both', left=False, labelleft=False) \n",
        "\n",
        "ax.set_xlabel('a', size=14)\n",
        "ax.set_ylabel('b', size = 14)\n",
        "\n",
        "plt.savefig('a_cs', dpi=300, bbox_inches=\"tight\")\n",
        "plt.show"
      ],
      "metadata": {
        "colab": {
          "base_uri": "https://localhost:8080/",
          "height": 284
        },
        "id": "ZliVNUy-ZJ_g",
        "outputId": "4b7cbe3a-2b42-4502-8b37-43e674e3b4a6"
      },
      "execution_count": 5,
      "outputs": [
        {
          "output_type": "execute_result",
          "data": {
            "text/plain": [
              "<function matplotlib.pyplot.show>"
            ]
          },
          "metadata": {},
          "execution_count": 5
        },
        {
          "output_type": "display_data",
          "data": {
            "text/plain": [
              "<Figure size 432x288 with 1 Axes>"
            ],
            "image/png": "[encoded data removed]"
          },
          "metadata": {}
        }
      ]
    },
    {
      "cell_type": "code",
      "source": [
        "# Example B - Only one series changes\n",
        "\n",
        "df_b1 = pd.DataFrame()\n",
        "df_b2 = pd.DataFrame()\n",
        "\n",
        "df_b1['time'] = [1, 2]\n",
        "df_b1['value'] = [4, 4]\n",
        "\n",
        "df_b2['time'] = [1, 2]\n",
        "df_b2['value'] = [2, 3.75]\n"
      ],
      "metadata": {
        "id": "fHUBp25Yu1MO"
      },
      "execution_count": 7,
      "outputs": []
    },
    {
      "cell_type": "code",
      "source": [
        "ax = df_b1.plot(x='time', y='value', marker='o', markersize=10, linewidth=4, color='blue')\n",
        "df_b2.plot(x='time', y='value', ax=ax, marker='o', markersize=10, linewidth=4, color='green')\n",
        "\n",
        "ax.margins(1,1)\n",
        "\n",
        "plt.tick_params(axis='x', which='both', bottom=False, labelbottom=False)\n",
        "plt.tick_params(axis='y', which='both', left=False, labelleft=False) \n",
        "\n",
        "ax.text(0.9,4.2,'a', size=14)\n",
        "ax.text(0.9,2.2,'b', size=14)\n",
        "\n",
        "plt.xlabel('time ➔', size=14)\n",
        "\n",
        "ax.get_legend().remove()\n",
        "\n",
        "plt.savefig('b_dalc', dpi=300, bbox_inches=\"tight\")\n",
        "plt.show"
      ],
      "metadata": {
        "colab": {
          "base_uri": "https://localhost:8080/",
          "height": 284
        },
        "id": "Wrq-q2-Kvavo",
        "outputId": "dc08aa51-5337-46a7-844c-69064019e4fe"
      },
      "execution_count": 8,
      "outputs": [
        {
          "output_type": "execute_result",
          "data": {
            "text/plain": [
              "<function matplotlib.pyplot.show>"
            ]
          },
          "metadata": {},
          "execution_count": 8
        },
        {
          "output_type": "display_data",
          "data": {
            "text/plain": [
              "<Figure size 432x288 with 1 Axes>"
            ],
            "image/png": "[encoded data removed]"
          },
          "metadata": {}
        }
      ]
    },
    {
      "cell_type": "code",
      "source": [
        "fig,ax = plt.subplots()\n",
        "\n",
        "ax.plot(df_b1.value, df_b2.value, '-o', linewidth=5, markersize=10, color='orange')\n",
        "\n",
        "plt.tick_params(axis='x', which='both', bottom=False, labelbottom=False)\n",
        "plt.tick_params(axis='y', which='both', left=False, labelleft=False) \n",
        "\n",
        "ax.margins(0.5,1)\n",
        "\n",
        "ax.set_xlabel('a', size=14)\n",
        "ax.set_ylabel('b ➔', size = 14)\n",
        "\n",
        "ax.arrow(4.05, 2, 0, 0.5, head_width = 0.01, head_length = 0.1, fc='black')\n",
        "ax.annotate('Direction (time)', xy=(4.06, 2))\n",
        "\n",
        "plt.savefig('b_cs', dpi=300, bbox_inches=\"tight\")\n",
        "plt.show"
      ],
      "metadata": {
        "colab": {
          "base_uri": "https://localhost:8080/",
          "height": 284
        },
        "id": "XMdgKk-lv37U",
        "outputId": "1220d740-6d15-4bbb-87d8-44b4e3e48a84"
      },
      "execution_count": 9,
      "outputs": [
        {
          "output_type": "execute_result",
          "data": {
            "text/plain": [
              "<function matplotlib.pyplot.show>"
            ]
          },
          "metadata": {},
          "execution_count": 9
        },
        {
          "output_type": "display_data",
          "data": {
            "text/plain": [
              "<Figure size 432x288 with 1 Axes>"
            ],
            "image/png": "[encoded data removed]"
          },
          "metadata": {}
        }
      ]
    },
    {
      "cell_type": "code",
      "source": [
        "# Example C - Positive correlation\n",
        "\n",
        "df_c1 = pd.DataFrame()\n",
        "df_c2 = pd.DataFrame()\n",
        "\n",
        "df_c1['time'] = [1, 2]\n",
        "df_c1['value'] = [1, 3]\n",
        "\n",
        "df_c2['time'] = [1, 2]\n",
        "df_c2['value'] = [2, 4]"
      ],
      "metadata": {
        "id": "9VncPhEDywJo"
      },
      "execution_count": 10,
      "outputs": []
    },
    {
      "cell_type": "code",
      "source": [
        "ax = df_c1.plot(x='time', y='value', marker='o', markersize=10, linewidth=4, color='blue')\n",
        "df_c2.plot(x='time', y='value', ax=ax, marker='o', markersize=10, linewidth=4, color='green')\n",
        "\n",
        "ax.margins(0.4,.4)\n",
        "\n",
        "plt.tick_params(axis='x', which='both', bottom=False, labelbottom=False)\n",
        "plt.tick_params(axis='y', which='both', left=False, labelleft=False) \n",
        "\n",
        "ax.text(0.9,1.9,'a', size=14)\n",
        "ax.text(0.9,0.9,'b', size=14)\n",
        "\n",
        "plt.xlabel('time ➔', size=14)\n",
        "\n",
        "ax.get_legend().remove()\n",
        "\n",
        "plt.savefig('c_dalc', dpi=300, bbox_inches=\"tight\")\n",
        "plt.show"
      ],
      "metadata": {
        "colab": {
          "base_uri": "https://localhost:8080/",
          "height": 284
        },
        "id": "y4cIQw9izAM9",
        "outputId": "0ce974ed-ad7c-49d6-81f7-ffad4236c3c5"
      },
      "execution_count": 11,
      "outputs": [
        {
          "output_type": "execute_result",
          "data": {
            "text/plain": [
              "<function matplotlib.pyplot.show>"
            ]
          },
          "metadata": {},
          "execution_count": 11
        },
        {
          "output_type": "display_data",
          "data": {
            "text/plain": [
              "<Figure size 432x288 with 1 Axes>"
            ],
            "image/png": "[encoded data removed]"
          },
          "metadata": {}
        }
      ]
    },
    {
      "cell_type": "code",
      "source": [
        "fig,ax = plt.subplots()\n",
        "\n",
        "ax.plot(df_c1.value, df_c2.value, '-o', linewidth=5, markersize=10, color='orange')\n",
        "\n",
        "plt.tick_params(axis='x', which='both', bottom=False, labelbottom=False)\n",
        "plt.tick_params(axis='y', which='both', left=False, labelleft=False) \n",
        "\n",
        "ax.margins(1,1.5)\n",
        "\n",
        "ax.set_xlabel('a ➔', size=14)\n",
        "ax.set_ylabel('b ➔', size = 14)\n",
        "\n",
        "ax.arrow(1.3, 1.5, .6, .6, head_width = 0.08, head_length = 0.1, fc='black')\n",
        "ax.annotate('Direction (time)', xy=(1.5, 1.4))\n",
        "\n",
        "plt.savefig('c_cs', dpi=300, bbox_inches=\"tight\")\n",
        "plt.show"
      ],
      "metadata": {
        "colab": {
          "base_uri": "https://localhost:8080/",
          "height": 284
        },
        "id": "WN7zgzdZzZms",
        "outputId": "f475cf4e-077c-48ac-863d-a5fbb85aa6c8"
      },
      "execution_count": 12,
      "outputs": [
        {
          "output_type": "execute_result",
          "data": {
            "text/plain": [
              "<function matplotlib.pyplot.show>"
            ]
          },
          "metadata": {},
          "execution_count": 12
        },
        {
          "output_type": "display_data",
          "data": {
            "text/plain": [
              "<Figure size 432x288 with 1 Axes>"
            ],
            "image/png": "[encoded data removed]"
          },
          "metadata": {}
        }
      ]
    },
    {
      "cell_type": "code",
      "source": [
        "# Example D - Negative correlation\n",
        "\n",
        "df_d1 = pd.DataFrame()\n",
        "df_d2 = pd.DataFrame()\n",
        "\n",
        "df_d1['time'] = [1, 2]\n",
        "df_d1['value'] = [3, 5]\n",
        "\n",
        "df_d2['time'] = [1, 2]\n",
        "df_d2['value'] = [2.5, 0.5]"
      ],
      "metadata": {
        "id": "34aUV5lC0nf0"
      },
      "execution_count": 13,
      "outputs": []
    },
    {
      "cell_type": "code",
      "source": [
        "ax = df_d1.plot(x='time', y='value', marker='o', markersize=10, linewidth=4, color='blue')\n",
        "df_d2.plot(x='time', y='value', ax=ax, marker='o', markersize=10, linewidth=4, color='green')\n",
        "\n",
        "ax.margins(0.4,.4)\n",
        "\n",
        "plt.tick_params(axis='x', which='both', bottom=False, labelbottom=False)\n",
        "plt.tick_params(axis='y', which='both', left=False, labelleft=False) \n",
        "\n",
        "ax.text(0.95, 3.4,'a', size=14)\n",
        "ax.text(0.95, 1.8,'b', size=14)\n",
        "\n",
        "plt.xlabel('time ➔', size=14)\n",
        "\n",
        "ax.get_legend().remove()\n",
        "\n",
        "plt.savefig('d_dalc', dpi=300, bbox_inches=\"tight\")\n",
        "plt.show"
      ],
      "metadata": {
        "colab": {
          "base_uri": "https://localhost:8080/",
          "height": 284
        },
        "id": "ux9BuRVL0z2t",
        "outputId": "6e34a441-bbc5-46ed-f6cc-aaf3e9a33b0e"
      },
      "execution_count": 14,
      "outputs": [
        {
          "output_type": "execute_result",
          "data": {
            "text/plain": [
              "<function matplotlib.pyplot.show>"
            ]
          },
          "metadata": {},
          "execution_count": 14
        },
        {
          "output_type": "display_data",
          "data": {
            "text/plain": [
              "<Figure size 432x288 with 1 Axes>"
            ],
            "image/png": "[encoded data removed]"
          },
          "metadata": {}
        }
      ]
    },
    {
      "cell_type": "code",
      "source": [
        "fig,ax = plt.subplots()\n",
        "\n",
        "ax.plot(df_d1.value, df_d2.value, '-o', linewidth=5, markersize=10, color='orange')\n",
        "\n",
        "plt.tick_params(axis='x', which='both', bottom=False, labelbottom=False)\n",
        "plt.tick_params(axis='y', which='both', left=False, labelleft=False) \n",
        "\n",
        "ax.margins(1,1.5)\n",
        "\n",
        "ax.set_xlabel('a ➔', size=14)\n",
        "ax.set_ylabel('b ➔', size = 14)\n",
        "\n",
        "ax.arrow(2.8, 1.6, .6, -.6, head_width = 0.08, head_length = 0.1, fc='black')\n",
        "ax.annotate('Direction (time)', xy=(1.6, 1))\n",
        "\n",
        "plt.savefig('d_cs', dpi=300, bbox_inches=\"tight\")\n",
        "plt.show"
      ],
      "metadata": {
        "colab": {
          "base_uri": "https://localhost:8080/",
          "height": 284
        },
        "id": "vR_sCSss1OXE",
        "outputId": "06002c27-95c3-4f5e-8125-8ba5c32a579c"
      },
      "execution_count": 15,
      "outputs": [
        {
          "output_type": "execute_result",
          "data": {
            "text/plain": [
              "<function matplotlib.pyplot.show>"
            ]
          },
          "metadata": {},
          "execution_count": 15
        },
        {
          "output_type": "display_data",
          "data": {
            "text/plain": [
              "<Figure size 432x288 with 1 Axes>"
            ],
            "image/png": "[encoded data removed]"
          },
          "metadata": {}
        }
      ]
    }
  ]
}